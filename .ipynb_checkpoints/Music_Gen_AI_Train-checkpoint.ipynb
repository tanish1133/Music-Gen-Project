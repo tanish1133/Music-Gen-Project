{
 "cells": [
  {
   "cell_type": "code",
   "execution_count": 1,
   "metadata": {
    "id": "T-B-9mT_dkDw"
   },
   "outputs": [
    {
     "name": "stdout",
     "output_type": "stream",
     "text": [
      "WARNING:tensorflow:From C:\\Users\\Admin\\AppData\\Roaming\\Python\\Python310\\site-packages\\keras\\src\\losses.py:2976: The name tf.losses.sparse_softmax_cross_entropy is deprecated. Please use tf.compat.v1.losses.sparse_softmax_cross_entropy instead.\n",
      "\n",
      "cpu\n"
     ]
    }
   ],
   "source": [
    "from music21 import *\n",
    "import os \n",
    "import numpy as np\n",
    "import matplotlib.pyplot as plt\n",
    "import matplotlib.pyplot as plt\n",
    "import torch\n",
    "from torch import tensor\n",
    "import torch.nn as nn\n",
    "import torch.optim as optim\n",
    "import tensorflow as tf\n",
    "import torch.nn.functional as F\n",
    "import math\n",
    "device = torch.device(\"cuda:0\" if torch.cuda.is_available() else \"cpu\")\n",
    "print(device)"
   ]
  },
  {
   "cell_type": "code",
   "execution_count": 6,
   "metadata": {},
   "outputs": [],
   "source": [
    "#pip install music21\n",
    "#!pip install torch torchvision\n"
   ]
  },
  {
   "cell_type": "code",
   "execution_count": 2,
   "metadata": {},
   "outputs": [],
   "source": [
    "import pandas as pd\n",
    "from ast import literal_eval\n",
    "\n",
    "notes_df = pd.read_csv ('Dataset/notes.csv')\n",
    "train_df = pd.read_csv ('Dataset/trainset.csv')\n",
    "validation_df = pd.read_csv ('Dataset/validationset.csv')\n",
    "\n",
    "data_train = train_df[['x_tr','future']].to_numpy()\n",
    "data_validation = validation_df[['x_val','future']].to_numpy()\n",
    "\n",
    "x_tr_string = data_train[:,0]\n",
    "y_tr_string = data_train[:,1]\n",
    "x_tr = []\n",
    "y_tr = []\n",
    "for i in x_tr_string:\n",
    "\n",
    "    b = \"[]\\n\"\n",
    "    for char in b:\n",
    "        i = i.replace(char, \"\")\n",
    "    input_x_tr = [int(j) for j in i.split()]\n",
    "    x_tr.append(input_x_tr)\n",
    "\n",
    "for i in y_tr_string:\n",
    "\n",
    "    b = \"[]\\n\"\n",
    "    for char in b:\n",
    "        i = i.replace(char, \"\")\n",
    "    input_y_tr = [int(j) for j in i.split()]\n",
    "    y_tr.append(input_y_tr)\n",
    "x_tr = np.array(x_tr)\n",
    "y_tr = np.array(y_tr)\n",
    "    \n",
    "# print(x_tr.shape,y_tr.shape)\n",
    "\n",
    "x_val_string = data_validation[:,0]\n",
    "y_val_string = data_validation[:,1]\n",
    "x_val = []\n",
    "y_val = []\n",
    "for i in x_val_string:\n",
    "\n",
    "    b = \"[]\\n\"\n",
    "    for char in b:\n",
    "        i = i.replace(char, \"\")\n",
    "    input_x_val = [int(j) for j in i.split()]\n",
    "    x_val.append(input_x_val)\n",
    "\n",
    "for i in y_val_string:\n",
    "\n",
    "    b = \"[]\\n\"\n",
    "    for char in b:\n",
    "        i = i.replace(char, \"\")\n",
    "    input_y_val = [int(j) for j in i.split()]\n",
    "    y_val.append(input_y_val)\n",
    "x_val = np.array(x_val)\n",
    "y_val = np.array(y_val)\n",
    "\n",
    "# print(x_val.shape,y_val.shape)\n",
    "\n",
    "notes_ = notes_df.to_numpy()[:,1]\n",
    "unique_notes_reverse = dict(enumerate(notes_.flatten(), 1))\n",
    "unique_notes = {value : key for (key, value) in unique_notes_reverse.items()}\n"
   ]
  },
  {
   "cell_type": "code",
   "execution_count": 7,
   "metadata": {
    "id": "YIqpdgrYzPe-"
   },
   "outputs": [],
   "source": [
    "from MusicDataset import *\n",
    "batch_size = 8\n",
    "train_set = MusicDataset(x_tr,y_tr)\n",
    "trainloader = torch.utils.data.DataLoader(train_set, batch_size=batch_size,\n",
    "                                         shuffle=False, num_workers=2)"
   ]
  },
  {
   "cell_type": "code",
   "execution_count": 8,
   "metadata": {
    "id": "rn3ZuUPPT38F"
   },
   "outputs": [],
   "source": [
    "val_set = MusicDataset(x_val,y_val)\n",
    "validationloader = torch.utils.data.DataLoader(val_set, batch_size=batch_size,\n",
    "                                         shuffle=False, num_workers=2)"
   ]
  },
  {
   "cell_type": "markdown",
   "metadata": {
    "id": "0bxVZde_utFh"
   },
   "source": [
    "**DataLoader**"
   ]
  },
  {
   "cell_type": "markdown",
   "metadata": {
    "id": "NnaW5q-HtI4E"
   },
   "source": [
    "**For Wavenet Model (Ignore for now)**"
   ]
  },
  {
   "cell_type": "code",
   "execution_count": 9,
   "metadata": {
    "id": "36aRUJG6Fx_p"
   },
   "outputs": [
    {
     "data": {
      "text/plain": [
       "Sequence(\n",
       "  (embedding): Embedding(173, 100)\n",
       "  (lstm): LSTM(100, 256, num_layers=3, batch_first=True)\n",
       "  (linear1): Linear(in_features=256, out_features=128, bias=True)\n",
       "  (relu): ReLU()\n",
       "  (linear2): Linear(in_features=128, out_features=128, bias=True)\n",
       "  (softmax): Softmax(dim=None)\n",
       "  (linear3): Linear(in_features=128, out_features=173, bias=True)\n",
       "  (dropout): Dropout(p=0.2, inplace=False)\n",
       ")"
      ]
     },
     "execution_count": 9,
     "metadata": {},
     "output_type": "execute_result"
    }
   ],
   "source": [
    "from Models import Wavenet,LSTM\n",
    "# Net = Wavenet.Wavenet(len(unique_notes),blocks=4,layers = 2)\n",
    "Net = LSTM.Sequence(len(unique_notes),32)\n",
    "Net.to(device)"
   ]
  },
  {
   "cell_type": "markdown",
   "metadata": {
    "id": "RARksamCtA7X"
   },
   "source": [
    "**Checking the model**"
   ]
  },
  {
   "cell_type": "code",
   "execution_count": 10,
   "metadata": {
    "id": "X01XYRS83ByK"
   },
   "outputs": [],
   "source": [
    "import torch.optim as optim\n",
    "criterion = nn.CrossEntropyLoss()\n",
    "optimizer = torch.optim.Adam(Net.parameters(), lr=0.001, betas=(0.9, 0.999), eps=1e-08, weight_decay=0, amsgrad=False)"
   ]
  },
  {
   "cell_type": "markdown",
   "metadata": {
    "id": "0-cyi3j7tSG3"
   },
   "source": [
    "**Use the line below when you want to change learning parameters in between**"
   ]
  },
  {
   "cell_type": "code",
   "execution_count": 11,
   "metadata": {},
   "outputs": [
    {
     "name": "stdout",
     "output_type": "stream",
     "text": [
      "/home/god-particle/Desktop/Music_Gen_AI /home/god-particle/Desktop/Music_Gen_AI\\trained_model_cache\\06_05_2024_12_41\n"
     ]
    }
   ],
   "source": [
    "import time , sys\n",
    "baseDir = '/home/god-particle/Desktop/Music_Gen_AI'\n",
    "expDir = os.path.join(baseDir, 'trained_model_cache', time.strftime(\"%d_%m_%Y_%H_%M\"))\n",
    "lossDir = os.path.join(expDir, 'loss')\n",
    "os.makedirs(expDir, exist_ok=True)\n",
    "os.makedirs(lossDir, exist_ok=True)\n",
    "print(baseDir,expDir)"
   ]
  },
  {
   "cell_type": "code",
   "execution_count": 12,
   "metadata": {},
   "outputs": [],
   "source": [
    "loss_history = []\n",
    "best_val_acc = 0\n",
    "training_mode_list = [\"Next_Predict_Mode\",\"Future_Predict_Mode\"]\n",
    "training_mode = \"Next_Predict_Mode\"\n",
    "# training_mode = \"Future_Predict_Mode\"\n",
    "future_preds = 5"
   ]
  },
  {
   "cell_type": "code",
   "execution_count": 16,
   "metadata": {
    "id": "45TGOH7G1mvF"
   },
   "outputs": [
    {
     "ename": "RuntimeError",
     "evalue": "expected scalar type Long but found Int",
     "output_type": "error",
     "traceback": [
      "\u001b[1;31m---------------------------------------------------------------------------\u001b[0m",
      "\u001b[1;31mRuntimeError\u001b[0m                              Traceback (most recent call last)",
      "Cell \u001b[1;32mIn[16], line 15\u001b[0m\n\u001b[0;32m     13\u001b[0m \u001b[38;5;28;01mif\u001b[39;00m training_mode \u001b[38;5;241m==\u001b[39m training_mode_list[\u001b[38;5;241m0\u001b[39m]:\n\u001b[0;32m     14\u001b[0m     output \u001b[38;5;241m=\u001b[39m Net(\u001b[38;5;28minput\u001b[39m\u001b[38;5;241m.\u001b[39mto(device),\u001b[38;5;28minput\u001b[39m\u001b[38;5;241m.\u001b[39mshape[\u001b[38;5;241m0\u001b[39m])\n\u001b[1;32m---> 15\u001b[0m     loss \u001b[38;5;241m=\u001b[39m \u001b[43mcriterion\u001b[49m\u001b[43m(\u001b[49m\u001b[43moutput\u001b[49m\u001b[38;5;241;43m.\u001b[39;49m\u001b[43mto\u001b[49m\u001b[43m(\u001b[49m\u001b[43mdevice\u001b[49m\u001b[43m)\u001b[49m\u001b[43m,\u001b[49m\u001b[43m \u001b[49m\u001b[43mlabel\u001b[49m\u001b[43m[\u001b[49m\u001b[43m:\u001b[49m\u001b[43m,\u001b[49m\u001b[38;5;241;43m0\u001b[39;49m\u001b[43m]\u001b[49m\u001b[38;5;241;43m.\u001b[39;49m\u001b[43mto\u001b[49m\u001b[43m(\u001b[49m\u001b[43mdevice\u001b[49m\u001b[43m)\u001b[49m\u001b[43m)\u001b[49m\n\u001b[0;32m     16\u001b[0m     loss\u001b[38;5;241m.\u001b[39mbackward()\n\u001b[0;32m     17\u001b[0m     optimizer\u001b[38;5;241m.\u001b[39mstep()\n",
      "File \u001b[1;32m~\\AppData\\Roaming\\Python\\Python310\\site-packages\\torch\\nn\\modules\\module.py:1511\u001b[0m, in \u001b[0;36m_wrapped_call_impl\u001b[1;34m(self, *args, **kwargs)\u001b[0m\n\u001b[0;32m   1509\u001b[0m \u001b[38;5;28;01mfinally\u001b[39;00m:\n\u001b[0;32m   1510\u001b[0m     \u001b[38;5;28;01mif\u001b[39;00m recording_scopes:\n\u001b[1;32m-> 1511\u001b[0m         tracing_state\u001b[38;5;241m.\u001b[39mpop_scope()\n\u001b[0;32m   1512\u001b[0m \u001b[38;5;28;01mreturn\u001b[39;00m result\n",
      "File \u001b[1;32m~\\AppData\\Roaming\\Python\\Python310\\site-packages\\torch\\nn\\modules\\module.py:1520\u001b[0m, in \u001b[0;36m_call_impl\u001b[1;34m(self, *args, **kwargs)\u001b[0m\n\u001b[0;32m   1517\u001b[0m     \u001b[38;5;28;01melse\u001b[39;00m:\n\u001b[0;32m   1518\u001b[0m         \u001b[38;5;28;01mreturn\u001b[39;00m \u001b[38;5;28mself\u001b[39m\u001b[38;5;241m.\u001b[39m_call_impl(\u001b[38;5;241m*\u001b[39margs, \u001b[38;5;241m*\u001b[39m\u001b[38;5;241m*\u001b[39mkwargs)\n\u001b[1;32m-> 1520\u001b[0m \u001b[38;5;28;01mdef\u001b[39;00m \u001b[38;5;21m_call_impl\u001b[39m(\u001b[38;5;28mself\u001b[39m, \u001b[38;5;241m*\u001b[39margs, \u001b[38;5;241m*\u001b[39m\u001b[38;5;241m*\u001b[39mkwargs):\n\u001b[0;32m   1521\u001b[0m     forward_call \u001b[38;5;241m=\u001b[39m (\u001b[38;5;28mself\u001b[39m\u001b[38;5;241m.\u001b[39m_slow_forward \u001b[38;5;28;01mif\u001b[39;00m torch\u001b[38;5;241m.\u001b[39m_C\u001b[38;5;241m.\u001b[39m_get_tracing_state() \u001b[38;5;28;01melse\u001b[39;00m \u001b[38;5;28mself\u001b[39m\u001b[38;5;241m.\u001b[39mforward)\n\u001b[0;32m   1522\u001b[0m     \u001b[38;5;66;03m# If we don't have any hooks, we want to skip the rest of the logic in\u001b[39;00m\n\u001b[0;32m   1523\u001b[0m     \u001b[38;5;66;03m# this function, and just call forward.\u001b[39;00m\n",
      "File \u001b[1;32m~\\AppData\\Roaming\\Python\\Python310\\site-packages\\torch\\nn\\modules\\loss.py:1179\u001b[0m, in \u001b[0;36mCrossEntropyLoss.forward\u001b[1;34m(self, input, target)\u001b[0m\n\u001b[0;32m   1178\u001b[0m \u001b[38;5;28;01mdef\u001b[39;00m \u001b[38;5;21mforward\u001b[39m(\u001b[38;5;28mself\u001b[39m, \u001b[38;5;28minput\u001b[39m: Tensor, target: Tensor) \u001b[38;5;241m-\u001b[39m\u001b[38;5;241m>\u001b[39m Tensor:\n\u001b[1;32m-> 1179\u001b[0m     \u001b[38;5;28;01mreturn\u001b[39;00m \u001b[43mF\u001b[49m\u001b[38;5;241;43m.\u001b[39;49m\u001b[43mcross_entropy\u001b[49m\u001b[43m(\u001b[49m\u001b[38;5;28;43minput\u001b[39;49m\u001b[43m,\u001b[49m\u001b[43m \u001b[49m\u001b[43mtarget\u001b[49m\u001b[43m,\u001b[49m\u001b[43m \u001b[49m\u001b[43mweight\u001b[49m\u001b[38;5;241;43m=\u001b[39;49m\u001b[38;5;28;43mself\u001b[39;49m\u001b[38;5;241;43m.\u001b[39;49m\u001b[43mweight\u001b[49m\u001b[43m,\u001b[49m\n\u001b[0;32m   1180\u001b[0m \u001b[43m                           \u001b[49m\u001b[43mignore_index\u001b[49m\u001b[38;5;241;43m=\u001b[39;49m\u001b[38;5;28;43mself\u001b[39;49m\u001b[38;5;241;43m.\u001b[39;49m\u001b[43mignore_index\u001b[49m\u001b[43m,\u001b[49m\u001b[43m \u001b[49m\u001b[43mreduction\u001b[49m\u001b[38;5;241;43m=\u001b[39;49m\u001b[38;5;28;43mself\u001b[39;49m\u001b[38;5;241;43m.\u001b[39;49m\u001b[43mreduction\u001b[49m\u001b[43m,\u001b[49m\n\u001b[0;32m   1181\u001b[0m \u001b[43m                           \u001b[49m\u001b[43mlabel_smoothing\u001b[49m\u001b[38;5;241;43m=\u001b[39;49m\u001b[38;5;28;43mself\u001b[39;49m\u001b[38;5;241;43m.\u001b[39;49m\u001b[43mlabel_smoothing\u001b[49m\u001b[43m)\u001b[49m\n",
      "File \u001b[1;32m~\\AppData\\Roaming\\Python\\Python310\\site-packages\\torch\\nn\\functional.py:3059\u001b[0m, in \u001b[0;36mcross_entropy\u001b[1;34m(input, target, weight, size_average, ignore_index, reduce, reduction, label_smoothing)\u001b[0m\n\u001b[0;32m   3057\u001b[0m \u001b[38;5;28;01mif\u001b[39;00m size_average \u001b[38;5;129;01mis\u001b[39;00m \u001b[38;5;129;01mnot\u001b[39;00m \u001b[38;5;28;01mNone\u001b[39;00m \u001b[38;5;129;01mor\u001b[39;00m reduce \u001b[38;5;129;01mis\u001b[39;00m \u001b[38;5;129;01mnot\u001b[39;00m \u001b[38;5;28;01mNone\u001b[39;00m:\n\u001b[0;32m   3058\u001b[0m     reduction \u001b[38;5;241m=\u001b[39m _Reduction\u001b[38;5;241m.\u001b[39mlegacy_get_string(size_average, reduce)\n\u001b[1;32m-> 3059\u001b[0m \u001b[38;5;28;01mreturn\u001b[39;00m \u001b[43mtorch\u001b[49m\u001b[38;5;241;43m.\u001b[39;49m\u001b[43m_C\u001b[49m\u001b[38;5;241;43m.\u001b[39;49m\u001b[43m_nn\u001b[49m\u001b[38;5;241;43m.\u001b[39;49m\u001b[43mcross_entropy_loss\u001b[49m\u001b[43m(\u001b[49m\u001b[38;5;28;43minput\u001b[39;49m\u001b[43m,\u001b[49m\u001b[43m \u001b[49m\u001b[43mtarget\u001b[49m\u001b[43m,\u001b[49m\u001b[43m \u001b[49m\u001b[43mweight\u001b[49m\u001b[43m,\u001b[49m\u001b[43m \u001b[49m\u001b[43m_Reduction\u001b[49m\u001b[38;5;241;43m.\u001b[39;49m\u001b[43mget_enum\u001b[49m\u001b[43m(\u001b[49m\u001b[43mreduction\u001b[49m\u001b[43m)\u001b[49m\u001b[43m,\u001b[49m\u001b[43m \u001b[49m\u001b[43mignore_index\u001b[49m\u001b[43m,\u001b[49m\u001b[43m \u001b[49m\u001b[43mlabel_smoothing\u001b[49m\u001b[43m)\u001b[49m\n",
      "\u001b[1;31mRuntimeError\u001b[0m: expected scalar type Long but found Int"
     ]
    }
   ],
   "source": [
    "import timeit\n",
    "\n",
    "\n",
    "''' TRAINING THE MODEL '''\n",
    "correct_preds = 0\n",
    "total_preds = 0\n",
    "for epoch in range(20): \n",
    "    running_loss = 0.0\n",
    "    start = timeit.default_timer()\n",
    "    for i, data in enumerate(trainloader, 0):\n",
    "        input , label = data\n",
    "        optimizer.zero_grad()\n",
    "        if training_mode == training_mode_list[0]:\n",
    "            output = Net(input.to(device),input.shape[0])\n",
    "            loss = criterion(output.to(device), label[:,0].to(device))\n",
    "            loss.backward()\n",
    "            optimizer.step()\n",
    "            total_preds += input.shape[0]\n",
    "            correct_preds += torch.sum(torch.argmax(output,1) == label[:,0].to(device))\n",
    "\n",
    "            running_loss += loss.item()\n",
    "        elif training_mode == training_mode_list[1]:\n",
    "            cumm_output = torch.zeros(0,len(unique_notes)).to(device)\n",
    "            cumm_label  = np.array([],dtype=float)\n",
    "            for k in range(future_preds):\n",
    "                output = Net(input.to(device),input.shape[0])\n",
    "                cumm_output = torch.cat((cumm_output,output))\n",
    "                cumm_label = np.concatenate((cumm_label,label[:,k]))\n",
    "                next_preds = np.argmax((output.cpu().detach().numpy(),axis=1)).long()\n",
    "                input = (input.cpu().detach().numpy()).long()\n",
    "                input = torch.from_numpy(np.array([np.append(j,next_preds[ind]) \n",
    "                                                       for ind,j in enumerate(input)])[:,1:])  \n",
    "            loss = criterion(cumm_output, torch.from_numpy(cumm_label).to(device))\n",
    "            loss.backward()\n",
    "            optimizer.step()\n",
    "\n",
    "            running_loss += loss.item()\n",
    "        \n",
    "        if (i % 300 == 299  ):\n",
    "            print('[%d, %5d] loss: %.3f' %\n",
    "                  (epoch + 1, i + 1, running_loss / 300))\n",
    "            loss_history.append(running_loss/300)\n",
    "            running_loss = 0.0\n",
    "    stop = timeit.default_timer()\n",
    "    print(f\"Training Time for Epoch :{epoch} \\n {stop-start} seconds\\n\")\n",
    "    train_acc =  float(correct_preds)/float(total_preds) *100 \n",
    "    trainreport =\"Training Accuracy : \\n correct predictions  : {} \\n total predictions : {} \\n Training Accuracy : {} \\n ------------------------\\n\".format(correct_preds,total_preds,train_acc)\n",
    "    print(trainreport)     \n",
    "    correct_preds = 0\n",
    "    total_preds = 0\n",
    "    val_loss = 0\n",
    "    start = timeit.default_timer()\n",
    "    for i, data in enumerate(validationloader, 0):\n",
    "        input , label = data\n",
    "        if training_mode == training_mode_list[0]:\n",
    "            output = Net(input.to(device),input.shape[0])\n",
    "            loss = criterion(output.to(device), label[:,0].to(device))\n",
    "            total_preds += input.shape[0]\n",
    "            correct_preds += torch.sum(torch.argmax(output,1) == label[:,0].to(device))\n",
    "            val_loss += loss.item()\n",
    "            \n",
    "        elif training_mode == training_mode_list[1]:\n",
    "            cumm_output = torch.zeros(0,len(unique_notes)).to(device)\n",
    "            cumm_label  = np.array([],dtype=float)\n",
    "            for k in range(future_preds):\n",
    "                output = Net(input.to(device),input.shape[0])\n",
    "                cumm_output = torch.cat((cumm_output,output))\n",
    "                cumm_label = np.concatenate((cumm_label,label[:,k]))\n",
    "                next_preds = (np.argmax(output.cpu().detach().numpy(),axis=1)).long()\n",
    "                input = (input.cpu().detach().numpy()).long()\n",
    "                input = torch.from_numpy(np.array([np.append(j,next_preds[ind]) \n",
    "                                                       for ind,j in enumerate(input)])[:,1:])  \n",
    "            loss = criterion(cumm_output, torch.from_numpy(cumm_label).to(device))\n",
    "\n",
    "            val_loss += loss.item()\n",
    "    stop = timeit.default_timer()\n",
    "    print(f\"Validation Time for Epoch :{epoch} \\n {stop-start} seconds\\n\")\n",
    "    val_acc = float(correct_preds)/float(total_preds) *100\n",
    "    val_loss = float(val_loss)/float(total_preds)\n",
    "    valreport =\"Validation Accuracy : \\n correct predictions  : {} \\n total predictions : {} \\n Val-Loss : {} \\n Val-Accuracy :{}----------------------------------\\n\".format(correct_preds,total_preds,val_loss,val_acc )\n",
    "    print(valreport)\n",
    "    \n",
    "    if(val_acc > best_val_acc):\n",
    "        print('Updating the model')\n",
    "        best_val_acc = val_acc\n",
    "        checkpoint = {\n",
    "            \"epoch\": epoch,\n",
    "            \"model_state_dict\": Net.state_dict(),\n",
    "            \"optimizer_state_dict\": optimizer.state_dict(),\n",
    "            \"train_acc\": train_acc,\n",
    "            \"valid_acc\": val_acc\n",
    "        }\n",
    "        torch.save(checkpoint, os.path.join(expDir, 'checkpoint.tar'))\n",
    "        torch.save(Net, os.path.join(expDir, 'model.pth'))\n",
    "    \n",
    "    correct_preds = 0\n",
    "    total_preds = 0\n",
    "\n",
    "\n",
    "print('Finished Training')"
   ]
  },
  {
   "cell_type": "code",
   "execution_count": null,
   "metadata": {
    "id": "InzgOHy4SbUx"
   },
   "outputs": [],
   "source": [
    "plt.figure()\n",
    "plt.plot(loss_history)\n",
    "# plt.savefig(lossDir + '/loss_history.png')"
   ]
  },
  {
   "cell_type": "code",
   "execution_count": null,
   "metadata": {
    "id": "H2H4LCj7HJB2"
   },
   "outputs": [],
   "source": [
    "# path='/content/drive/MyDrive/schubert/sine_model.pth'\n",
    "# path='/content/drive/MyDrive/schubert/lstmmodel1.pth'\n",
    "path='/content/drive/MyDrive/schubert/sine_wavenet1.pth'\n",
    "torch.save(Net.state_dict(), path)"
   ]
  },
  {
   "cell_type": "code",
   "execution_count": null,
   "metadata": {
    "id": "nExWQHfDaiNp"
   },
   "outputs": [],
   "source": [
    "# path='/content/drive/MyDrive/schubert/sine_model.pth'\n",
    "# path='/content/drive/MyDrive/schubert/lstmmodel1.pth'\n",
    "checkpoint_path='/home/god-particle/Desktop/Music_Gen_AI/trained_model_cache/29_08_2021_23_57/checkpoint.tar'\n",
    "Net = LSTM.Sequence(len(unique_notes),32);\n",
    "checkpoint = torch.load(checkpoint_path)\n",
    "Net.load_state_dict(checkpoint[\"model_state_dict\"])\n",
    "print(checkpoint[\"epoch\"])\n",
    "# Net = Wavenet(len(unique_x),blocks=4,layers = 2)\n",
    "# Net.load_state_dict(torch.load(path))\n",
    "\n",
    "correct_preds = 0\n",
    "total_preds = 0\n",
    "with torch.no_grad():\n",
    "  for i, data in enumerate(validationloader, 0):\n",
    "    input , label = data\n",
    "    output = Net(input,input.shape[0])\n",
    "    total_preds += input.shape[0]\n",
    "    correct_preds += torch.sum(torch.argmax(output,1) == label)\n",
    "    \n",
    "\n",
    "report =\"correct predictions  : {} \\n total predictions : {} \\n Accuracy : {}\".format(correct_preds,total_preds, correct_preds/total_preds *100)\n",
    "print(report)\n"
   ]
  },
  {
   "cell_type": "markdown",
   "metadata": {
    "id": "xJmdQ95isFGQ"
   },
   "source": [
    "**Testing the Model by training sinosoids**\n",
    "\n",
    "\n",
    "\n",
    "*   Uncomment the code chunk below to test o sinosoids \n",
    "*   dont run above code if training for sinosoids. Variable names are mostly same\n",
    "\n"
   ]
  },
  {
   "cell_type": "code",
   "execution_count": null,
   "metadata": {
    "id": "wxaFU5Q8siEX"
   },
   "outputs": [],
   "source": [
    "# time = np.linspace(1,10,10000)\n",
    "# # print(time)\n",
    "# y = np.sin(20*time)\n",
    "# # plt.figure();\n",
    "# # plt.plot(y)\n",
    "# func = np.round(y,decimals=2)\n",
    "# # print(y[:100])\n",
    "# no_of_timesteps = 32\n",
    "# x = []\n",
    "# y = []\n",
    "\n",
    "\n",
    "# for i in range(0, len(func) - no_of_timesteps-1, 1):\n",
    "    \n",
    "#     #preparing input and output sequences\n",
    "#     input_ = func[i:i + no_of_timesteps]\n",
    "#     output = func[i+no_of_timesteps+1]\n",
    "    \n",
    "#     x.append(input_)\n",
    "#     y.append(output)\n",
    "        \n",
    "# x=np.array(x)\n",
    "# y=np.array(y)\n",
    "\n",
    "# unique_x = list(set(x.ravel()))\n",
    "# x_note_to_int = dict((note_, number) for number, note_ in enumerate(unique_x))\n",
    "# x_seq=[]\n",
    "# for i in x:\n",
    "#     temp=[]\n",
    "#     for j in i:\n",
    "#         #assigning unique integer to every note\n",
    "#         temp.append(x_note_to_int[j])\n",
    "#     x_seq.append(temp)\n",
    "    \n",
    "# x_seq = np.array(x_seq)\n",
    "\n",
    "# unique_y = list(set(y))\n",
    "# y_note_to_int = dict((note_, number) for number, note_ in enumerate(unique_y)) \n",
    "# y_seq=np.array([x_note_to_int[i] for i in y])\n"
   ]
  }
 ],
 "metadata": {
  "colab": {
   "collapsed_sections": [],
   "name": "Music_Gen_AI.ipynb",
   "provenance": []
  },
  "interpreter": {
   "hash": "31f2aee4e71d21fbe5cf8b01ff0e069b9275f58929596ceb00d14d90e3e16cd6"
  },
  "kernelspec": {
   "display_name": "Python 3 (ipykernel)",
   "language": "python",
   "name": "python3"
  },
  "language_info": {
   "codemirror_mode": {
    "name": "ipython",
    "version": 3
   },
   "file_extension": ".py",
   "mimetype": "text/x-python",
   "name": "python",
   "nbconvert_exporter": "python",
   "pygments_lexer": "ipython3",
   "version": "3.10.9"
  }
 },
 "nbformat": 4,
 "nbformat_minor": 4
}
